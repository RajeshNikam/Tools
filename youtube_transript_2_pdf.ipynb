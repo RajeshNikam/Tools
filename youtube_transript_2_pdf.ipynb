{
 "cells": [
  {
   "cell_type": "code",
   "execution_count": 1,
   "metadata": {},
   "outputs": [],
   "source": [
    "from youtube_transcript_api import YouTubeTranscriptApi\n",
    "from youtube_transcript_api.formatters import TextFormatter\n",
    "from fpdf import FPDF"
   ]
  },
  {
   "cell_type": "code",
   "execution_count": 2,
   "metadata": {},
   "outputs": [],
   "source": [
    "video_id = \"rZ1vPXK2bTA\"\n",
    "\n",
    "def download_transcript(title, vid):\n",
    "    try:\n",
    "        transcript = YouTubeTranscriptApi.get_transcript(vid)\n",
    "        formatter = TextFormatter()\n",
    "        text_formatted = formatter.format_transcript(transcript)\n",
    "        \n",
    "        pdf = FPDF()\n",
    "        pdf.add_page()\n",
    "        pdf.set_font('Arial', size=8)\n",
    "        pdf.write(5, text_formatted)\n",
    "        pdf.output(title + \".pdf\")\n",
    "    except Exception as e:\n",
    "        print(e)\n"
   ]
  },
  {
   "cell_type": "code",
   "execution_count": 3,
   "metadata": {},
   "outputs": [],
   "source": [
    "video_list = [\n",
    "\t\t{'title': 'Sometimes We Need to Sing UGLY', 'vid': 'JQ6p55aQh6c'},\n",
    "    ]\n"
   ]
  },
  {
   "cell_type": "code",
   "execution_count": 4,
   "metadata": {},
   "outputs": [
    {
     "name": "stdout",
     "output_type": "stream",
     "text": [
      "Sometimes We Need to Sing UGLY  :  JQ6p55aQh6c\n"
     ]
    }
   ],
   "source": [
    "for item in video_list:\n",
    "    print(item['title'], \" : \", item['vid'])\n",
    "    download_transcript(item['title'], item['vid'])"
   ]
  },
  {
   "cell_type": "code",
   "execution_count": null,
   "metadata": {},
   "outputs": [],
   "source": []
  }
 ],
 "metadata": {
  "kernelspec": {
   "display_name": "openai",
   "language": "python",
   "name": "python3"
  },
  "language_info": {
   "codemirror_mode": {
    "name": "ipython",
    "version": 3
   },
   "file_extension": ".py",
   "mimetype": "text/x-python",
   "name": "python",
   "nbconvert_exporter": "python",
   "pygments_lexer": "ipython3",
   "version": "3.12.1"
  }
 },
 "nbformat": 4,
 "nbformat_minor": 2
}
