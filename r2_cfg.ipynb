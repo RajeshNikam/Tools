{
 "cells": [
  {
   "cell_type": "code",
   "execution_count": 50,
   "metadata": {},
   "outputs": [],
   "source": [
    "from r2pipe import open\n",
    "import networkx as nx"
   ]
  },
  {
   "cell_type": "code",
   "execution_count": null,
   "metadata": {},
   "outputs": [],
   "source": [
    "\n",
    "filename = r\"C:\\Projects\\__CFG_ML\\qiling-master\\examples\\rootfs\\x86_windows\\bin\\crackme.exe\" \n",
    "r2 = open(filename)\n",
    "r2.cmd(\"aaa\") \n",
    "funcs = r2.cmdj(\"aflj\")\n",
    "\n",
    "cfg = nx.DiGraph()\n",
    "\n",
    "print(\"Offset\\tName\\tInDegree\\tOutDegree\\tNInstrs\\tEdges\")\n",
    "for func in funcs:\n",
    "    # code to print function details with matching format    \n",
    "    print(hex(func['offset']), func['name'], func['indegree'], func['outdegree'], func['ninstrs'], func['edges'])\n",
    "\n",
    "    # Get the list of basic blocks for the function\n",
    "    bbs = r2.cmdj(f\"afbj @{func['name']}\")\n",
    "    \n",
    "    # Add nodes for each basic block\n",
    "    for bb in bbs:\n",
    "      cfg.add_node(bb['addr'], name=func['name']+hex(bb['addr']))\n",
    "\n",
    "    # Add edges based on jump instructions\n",
    "    for bb in bbs:\n",
    "      if 'jump' in bb:\n",
    "        target_addr = bb['jump']\n",
    "        cfg.add_edge(bb['addr'], target_addr)\n",
    "        "
   ]
  },
  {
   "cell_type": "code",
   "execution_count": null,
   "metadata": {},
   "outputs": [],
   "source": [
    "print(f\"Number of nodes: {cfg.number_of_nodes()}\")\n",
    "print(f\"Number of edges: {cfg.number_of_edges()}\")"
   ]
  },
  {
   "cell_type": "code",
   "execution_count": null,
   "metadata": {},
   "outputs": [],
   "source": [
    "data_refs = r2.cmdj(f\"agAj\")\n",
    "for ref in data_refs['nodes']:\n",
    "    print(ref['id'], ref['title'], ref['out_nodes'])"
   ]
  },
  {
   "cell_type": "code",
   "execution_count": null,
   "metadata": {},
   "outputs": [],
   "source": [
    "call_graph = r2.cmdj(f\"agCj\")\n",
    "for ref in call_graph:\n",
    "    print(ref['name'], ref['imports'])"
   ]
  },
  {
   "cell_type": "code",
   "execution_count": null,
   "metadata": {},
   "outputs": [],
   "source": []
  }
 ],
 "metadata": {
  "kernelspec": {
   "display_name": "base",
   "language": "python",
   "name": "python3"
  },
  "language_info": {
   "codemirror_mode": {
    "name": "ipython",
    "version": 3
   },
   "file_extension": ".py",
   "mimetype": "text/x-python",
   "name": "python",
   "nbconvert_exporter": "python",
   "pygments_lexer": "ipython3",
   "version": "3.11.7"
  }
 },
 "nbformat": 4,
 "nbformat_minor": 2
}
