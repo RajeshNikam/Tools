{
 "cells": [
  {
   "cell_type": "code",
   "execution_count": 1,
   "metadata": {},
   "outputs": [],
   "source": [
    "import os\n",
    "from youtube_transcript_api import YouTubeTranscriptApi\n",
    "from youtube_transcript_api.formatters import TextFormatter\n",
    "from fpdf import FPDF\n",
    "from time import time\n",
    "from pytube import YouTube, Playlist\n",
    "from concurrent.futures import ThreadPoolExecutor, as_completed"
   ]
  },
  {
   "cell_type": "code",
   "execution_count": 2,
   "metadata": {},
   "outputs": [],
   "source": [
    "video_id = \"rZ1vPXK2bTA\"\n",
    "\n",
    "def download_transcript(title, vid):\n",
    "    try:\n",
    "        transcript = YouTubeTranscriptApi.get_transcript(vid)\n",
    "        formatter = TextFormatter()\n",
    "        text_formatted = formatter.format_transcript(transcript)\n",
    "        \n",
    "        pdf = FPDF()\n",
    "        pdf.add_page()\n",
    "        pdf.set_font('Arial', size=8)\n",
    "        pdf.write(5, text_formatted)\n",
    "        pdf.output(title + \".pdf\")\n",
    "    except Exception as e:\n",
    "        print(e)"
   ]
  },
  {
   "cell_type": "code",
   "execution_count": 3,
   "metadata": {},
   "outputs": [],
   "source": [
    "video_list = [\n",
    "\t\t{'title': 'Communications', 'vid': 'MfqPp37KGBQ&t=283s'},\n",
    "    ]\n"
   ]
  },
  {
   "cell_type": "code",
   "execution_count": 7,
   "metadata": {},
   "outputs": [
    {
     "name": "stdout",
     "output_type": "stream",
     "text": [
      "Communications  :  MfqPp37KGBQ&t=283s\n"
     ]
    }
   ],
   "source": [
    "for item in video_list:\n",
    "    print(item['title'], \" : \", item['vid'])\n",
    "    download_transcript(item['title'], item['vid'])"
   ]
  },
  {
   "cell_type": "code",
   "execution_count": 11,
   "metadata": {},
   "outputs": [],
   "source": [
    "prompt = \"\"\"Please summarize the main topics and key points discussed in the following communication video. \n",
    "Identify any relevant subtopics or supporting arguments. Extract actionable learning points and provide practical tips for applying these concepts in communication.\n",
    "\n",
    "<Text>\n",
    "\"\"\""
   ]
  },
  {
   "cell_type": "code",
   "execution_count": 13,
   "metadata": {},
   "outputs": [
    {
     "name": "stdout",
     "output_type": "stream",
     "text": [
      "['Jefferson Fisher Compilation Part 30', 'https://www.youtube.com/watch?v=6_Z4LAVnYmw']\n",
      "['Jefferson Fisher Compilation Part 33', 'https://www.youtube.com/watch?v=X7cH0gUg7fc']\n",
      "['Jefferson Fisher Compilation Part 17', 'https://www.youtube.com/watch?v=Lz3DA5xcPKM']\n",
      "['Jefferson Fisher Compilation Part 8', 'https://www.youtube.com/watch?v=wHTzIHd6rsM']\n",
      "['Jefferson Fisher Compilation Part 5', 'https://www.youtube.com/watch?v=TcdEXLc_NdU']\n",
      "['Jefferson Fisher Compilation Part 1', 'https://www.youtube.com/watch?v=B6c8ZbVMQJo']\n",
      "['Jefferson Fisher Compilation Part 34', 'https://www.youtube.com/watch?v=IOCvuch68uA']\n",
      "['Jefferson Fisher Compilation Part 15', 'https://www.youtube.com/watch?v=7l-gUal9FWk']\n",
      "['Jefferson Fisher Compilation Part 7', 'https://www.youtube.com/watch?v=81NK7a0kYCs']\n",
      "['Jefferson Fisher Compilation Part 12', 'https://www.youtube.com/watch?v=KJKVl31uIao']\n",
      "['Jefferson Fisher Compilation Part 25', 'https://www.youtube.com/watch?v=OsovWJGePes']\n",
      "['Jefferson Fisher Compilation Part 21', 'https://www.youtube.com/watch?v=2zdvlHdo5XM']\n",
      "['Jefferson Fisher Compilation Part 3', 'https://www.youtube.com/watch?v=cf4FnrfrlL8']\n",
      "['Jefferson Fisher Compilation Part 32', 'https://www.youtube.com/watch?v=6K9mDOiVjJo']\n",
      "['Jefferson Fisher Compilation Part 18', 'https://www.youtube.com/watch?v=IAGW6UmAiAA']\n",
      "['Jefferson Fisher Compilation Part 31 second', 'https://www.youtube.com/watch?v=YpwsKKn0lo0']\n",
      "['Jefferson Fisher Compilation Part 28', 'https://www.youtube.com/watch?v=YOjBpTx0nCg']\n",
      "['Jefferson Fisher Compilation Part 6', 'https://www.youtube.com/watch?v=5OqpTx1AdlI']\n",
      "['Jefferson Fisher Compilation Part 23', 'https://www.youtube.com/watch?v=djK05iRw--E']\n",
      "['Jefferson Fisher Compilation Part 10', 'https://www.youtube.com/watch?v=Bul_zu8F_do']\n",
      "['Jefferson Fisher Compilation Part 22', 'https://www.youtube.com/watch?v=IA41qcuFaY8']\n",
      "['Jefferson Fisher Compilation Part 19', 'https://www.youtube.com/watch?v=Q-4rwkBgkoo']\n",
      "['Jefferson Fisher Compilation Part 11', 'https://www.youtube.com/watch?v=jpZSFAuFLRM']\n",
      "['Jefferson Fisher Compilation Part 31 first', 'https://www.youtube.com/watch?v=Eti22FOxBgs']\n",
      "['Jefferson Fisher Compilation Part 9', 'https://www.youtube.com/watch?v=PM8NgQ4YcP4']\n",
      "['Jefferson Fisher Compilation Part 2', 'https://www.youtube.com/watch?v=4VYuK5rY9ao']\n",
      "['Jefferson Fisher Compilation Part 13', 'https://www.youtube.com/watch?v=9xKWtxcSpuk']\n",
      "['Jefferson Fisher Compilation Part 27', 'https://www.youtube.com/watch?v=usXr--u-LPk']\n",
      "['Jefferson Fisher Compilation Part 20', 'https://www.youtube.com/watch?v=EnmCJayRHYo']\n",
      "['Jefferson Fisher Compilation Part 16', 'https://www.youtube.com/watch?v=qEnwHuaayG4']\n",
      "['Jefferson Fisher Compilation Part 24', 'https://www.youtube.com/watch?v=BPfekAVP-F8']\n",
      "['Jefferson Fisher Compilation Part 29', 'https://www.youtube.com/watch?v=Zzjko0HC5lM']\n",
      "['Jefferson Fisher Compilation Part 4', 'https://www.youtube.com/watch?v=sjObjFe8gOs']\n",
      "['Jefferson Fisher Compilation Part 26', 'https://www.youtube.com/watch?v=koqbGYRhQVQ']\n",
      "['Jefferson Fisher Compilation Part 14', 'https://www.youtube.com/watch?v=L07CFMSJTcM']\n",
      "Time taken: 11.690828323364258\n"
     ]
    }
   ],
   "source": [
    "# playlist_link = \"https://www.youtube.com/playlist?list=PL6vMAFPIKMUgV3udSPPsX8DNiEojRUbZK\" # Advanced English\n",
    "playlist_link = \"https://www.youtube.com/watch?list=PLgQfCCkY17g3H02NsG8Zpan6vVorDqdKH\" # Professional English\n",
    "sub_dir = \"Jefferson_Fisher\"\n",
    "\n",
    "if not os.path.exists(sub_dir):\n",
    "    os.makedirs(sub_dir)\n",
    "\n",
    "video_links = Playlist(playlist_link).video_urls\n",
    "\n",
    "start = time()\n",
    "\n",
    "def get_video_title(link):\n",
    "    title = YouTube(link).title\n",
    "    download_transcript(title, link)\n",
    "    return [title, link]\n",
    "\n",
    "def download_transcript(title, url):\n",
    "    try:\n",
    "        vid = url.split(\"watch?v=\")[1]\n",
    "        transcript = YouTubeTranscriptApi.get_transcript(vid)\n",
    "        formatter = TextFormatter()\n",
    "        text_formatted = formatter.format_transcript(transcript)\n",
    "        \n",
    "        file_name = os.path.join(sub_dir, title + \".txt\")\n",
    "        with open(file_name, \"w\") as f:\n",
    "            f.write(prompt + text_formatted + \"\\n</Text>\")\n",
    "\n",
    "        # pdf = FPDF()\n",
    "        # pdf.add_page()\n",
    "        # pdf.set_font('Arial', size=8)\n",
    "        # pdf.write(5, text_formatted)\n",
    "        # title = title.replace(\"?\", \"\")\n",
    "        # title = title.replace(\"|\", \"\")\n",
    "        # file_name = os.path.join(sub_dir, title + \".pdf\")\n",
    "        # pdf.output(file_name)\n",
    "    except Exception as e:\n",
    "        print(e)\n",
    "\n",
    "processes = []\n",
    "with ThreadPoolExecutor(max_workers=10) as executor:\n",
    "    for url in video_links:\n",
    "        processes.append(executor.submit(get_video_title, url))\n",
    "\n",
    "video_titles = []\n",
    "for task in as_completed(processes):\n",
    "    video_titles.append(task.result())\n",
    "    print(task.result())\n",
    "\n",
    "\n",
    "print(f'Time taken: {time() - start}')"
   ]
  },
  {
   "cell_type": "code",
   "execution_count": null,
   "metadata": {},
   "outputs": [],
   "source": []
  }
 ],
 "metadata": {
  "kernelspec": {
   "display_name": "openai",
   "language": "python",
   "name": "python3"
  },
  "language_info": {
   "codemirror_mode": {
    "name": "ipython",
    "version": 3
   },
   "file_extension": ".py",
   "mimetype": "text/x-python",
   "name": "python",
   "nbconvert_exporter": "python",
   "pygments_lexer": "ipython3",
   "version": "3.11.7"
  }
 },
 "nbformat": 4,
 "nbformat_minor": 2
}
